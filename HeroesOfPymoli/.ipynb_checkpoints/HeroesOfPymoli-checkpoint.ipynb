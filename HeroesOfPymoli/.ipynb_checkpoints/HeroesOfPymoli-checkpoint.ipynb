{
 "cells": [
  {
   "cell_type": "code",
   "execution_count": 14,
   "metadata": {},
   "outputs": [
    {
     "data": {
      "text/html": [
       "<div>\n",
       "<style scoped>\n",
       "    .dataframe tbody tr th:only-of-type {\n",
       "        vertical-align: middle;\n",
       "    }\n",
       "\n",
       "    .dataframe tbody tr th {\n",
       "        vertical-align: top;\n",
       "    }\n",
       "\n",
       "    .dataframe thead th {\n",
       "        text-align: right;\n",
       "    }\n",
       "</style>\n",
       "<table border=\"1\" class=\"dataframe\">\n",
       "  <thead>\n",
       "    <tr style=\"text-align: right;\">\n",
       "      <th></th>\n",
       "      <th>Purchase ID</th>\n",
       "      <th>SN</th>\n",
       "      <th>Age</th>\n",
       "      <th>Gender</th>\n",
       "      <th>Item ID</th>\n",
       "      <th>Item Name</th>\n",
       "      <th>Price</th>\n",
       "    </tr>\n",
       "  </thead>\n",
       "  <tbody>\n",
       "    <tr>\n",
       "      <th>0</th>\n",
       "      <td>0</td>\n",
       "      <td>Lisim78</td>\n",
       "      <td>20</td>\n",
       "      <td>Male</td>\n",
       "      <td>108</td>\n",
       "      <td>Extraction, Quickblade Of Trembling Hands</td>\n",
       "      <td>3.53</td>\n",
       "    </tr>\n",
       "    <tr>\n",
       "      <th>1</th>\n",
       "      <td>1</td>\n",
       "      <td>Lisovynya38</td>\n",
       "      <td>40</td>\n",
       "      <td>Male</td>\n",
       "      <td>143</td>\n",
       "      <td>Frenzied Scimitar</td>\n",
       "      <td>1.56</td>\n",
       "    </tr>\n",
       "    <tr>\n",
       "      <th>2</th>\n",
       "      <td>2</td>\n",
       "      <td>Ithergue48</td>\n",
       "      <td>24</td>\n",
       "      <td>Male</td>\n",
       "      <td>92</td>\n",
       "      <td>Final Critic</td>\n",
       "      <td>4.88</td>\n",
       "    </tr>\n",
       "    <tr>\n",
       "      <th>3</th>\n",
       "      <td>3</td>\n",
       "      <td>Chamassasya86</td>\n",
       "      <td>24</td>\n",
       "      <td>Male</td>\n",
       "      <td>100</td>\n",
       "      <td>Blindscythe</td>\n",
       "      <td>3.27</td>\n",
       "    </tr>\n",
       "    <tr>\n",
       "      <th>4</th>\n",
       "      <td>4</td>\n",
       "      <td>Iskosia90</td>\n",
       "      <td>23</td>\n",
       "      <td>Male</td>\n",
       "      <td>131</td>\n",
       "      <td>Fury</td>\n",
       "      <td>1.44</td>\n",
       "    </tr>\n",
       "  </tbody>\n",
       "</table>\n",
       "</div>"
      ],
      "text/plain": [
       "   Purchase ID             SN  Age Gender  Item ID  \\\n",
       "0            0        Lisim78   20   Male      108   \n",
       "1            1    Lisovynya38   40   Male      143   \n",
       "2            2     Ithergue48   24   Male       92   \n",
       "3            3  Chamassasya86   24   Male      100   \n",
       "4            4      Iskosia90   23   Male      131   \n",
       "\n",
       "                                   Item Name  Price  \n",
       "0  Extraction, Quickblade Of Trembling Hands   3.53  \n",
       "1                          Frenzied Scimitar   1.56  \n",
       "2                               Final Critic   4.88  \n",
       "3                                Blindscythe   3.27  \n",
       "4                                       Fury   1.44  "
      ]
     },
     "execution_count": 14,
     "metadata": {},
     "output_type": "execute_result"
    }
   ],
   "source": [
    "# Dependencies and Setup\n",
    "import pandas as pd\n",
    "\n",
    "# File to Load (Remember to Change These)\n",
    "file_to_load = \"Resources/purchase_data.csv\"\n",
    "\n",
    "# Read Purchasing File and store into Pandas data frame\n",
    "purchase_data = pd.read_csv(file_to_load)\n",
    "\n",
    "# Display 1st 5 rows of Dataframe \n",
    "purchase_data.head()"
   ]
  },
  {
   "cell_type": "code",
   "execution_count": 13,
   "metadata": {},
   "outputs": [
    {
     "name": "stdout",
     "output_type": "stream",
     "text": [
      "The Total Number of Players is 576.\n"
     ]
    }
   ],
   "source": [
    "### Player Count\n",
    "# Finding the Total Number of Players\n",
    "player_count = len(purchase_data[\"SN\"].unique())\n",
    "print(f\"The Total Number of Players is {player_count}.\")"
   ]
  },
  {
   "cell_type": "code",
   "execution_count": 41,
   "metadata": {},
   "outputs": [
    {
     "data": {
      "text/html": [
       "<style  type=\"text/css\" >\n",
       "</style><table id=\"T_82c3d01e_78a9_11ec_9caa_04d9f5f5bbec\" ><thead>    <tr>        <th class=\"blank level0\" ></th>        <th class=\"col_heading level0 col0\" >Number of Unique Items</th>        <th class=\"col_heading level0 col1\" >Average Purchase Price</th>        <th class=\"col_heading level0 col2\" >Total Number of Purchases</th>        <th class=\"col_heading level0 col3\" >Total Revenue</th>    </tr></thead><tbody>\n",
       "                <tr>\n",
       "                        <th id=\"T_82c3d01e_78a9_11ec_9caa_04d9f5f5bbeclevel0_row0\" class=\"row_heading level0 row0\" >0</th>\n",
       "                        <td id=\"T_82c3d01e_78a9_11ec_9caa_04d9f5f5bbecrow0_col0\" class=\"data row0 col0\" >179</td>\n",
       "                        <td id=\"T_82c3d01e_78a9_11ec_9caa_04d9f5f5bbecrow0_col1\" class=\"data row0 col1\" >$3.05</td>\n",
       "                        <td id=\"T_82c3d01e_78a9_11ec_9caa_04d9f5f5bbecrow0_col2\" class=\"data row0 col2\" >780</td>\n",
       "                        <td id=\"T_82c3d01e_78a9_11ec_9caa_04d9f5f5bbecrow0_col3\" class=\"data row0 col3\" >$2,379.77</td>\n",
       "            </tr>\n",
       "    </tbody></table>"
      ],
      "text/plain": [
       "<pandas.io.formats.style.Styler at 0x217ffac9a58>"
      ]
     },
     "execution_count": 41,
     "metadata": {},
     "output_type": "execute_result"
    }
   ],
   "source": [
    "### Purchasing Analysis (Total)\n",
    "# Finding the Number of Unique Items\n",
    "unique_items = len(purchase_data[\"Item Name\"].unique())\n",
    "\n",
    "# Finding the Average Purchase Price\n",
    "avg_price = purchase_data[\"Price\"].mean()\n",
    "\n",
    "# Finding the Total Number of Purchases\n",
    "total_purchases = len(purchase_data[\"Price\"])\n",
    "\n",
    "# Finding the Total Revenue\n",
    "total_revenue = purchase_data[\"Price\"].sum()\n",
    "\n",
    "# Outputting the Purchasing Analysis into a Summary Dataframe\n",
    "# First, inputted calculated into a dictionary\n",
    "purchasing_analysis_d = {'Number of Unique Items': [unique_items], \\\n",
    "                         'Average Purchase Price': [avg_price], \\\n",
    "                         'Total Number of Purchases': [total_purchases], \\\n",
    "                         'Total Revenue': [total_revenue]}\n",
    "# Then, converted dictionary to a dataframe and added currency formatting\n",
    "# to the Average Purchase Price and Total Revenue columns\n",
    "purchasing_analysis_df = pd.DataFrame(data = purchasing_analysis_d)\n",
    "purchasing_analysis_df.style.format({'Average Purchase Price': \"${:,.2f}\", \\\n",
    "                                   'Total Revenue': \"${:,.2f}\"})"
   ]
  },
  {
   "cell_type": "code",
   "execution_count": 136,
   "metadata": {},
   "outputs": [
    {
     "data": {
      "text/html": [
       "<style  type=\"text/css\" >\n",
       "</style><table id=\"T_231790b6_78b6_11ec_8139_04d9f5f5bbec\" ><thead>    <tr>        <th class=\"blank level0\" ></th>        <th class=\"col_heading level0 col0\" >Total Count</th>        <th class=\"col_heading level0 col1\" >Percentage of Players</th>    </tr>    <tr>        <th class=\"index_name level0\" >Gender</th>        <th class=\"blank\" ></th>        <th class=\"blank\" ></th>    </tr></thead><tbody>\n",
       "                <tr>\n",
       "                        <th id=\"T_231790b6_78b6_11ec_8139_04d9f5f5bbeclevel0_row0\" class=\"row_heading level0 row0\" >Female</th>\n",
       "                        <td id=\"T_231790b6_78b6_11ec_8139_04d9f5f5bbecrow0_col0\" class=\"data row0 col0\" >81</td>\n",
       "                        <td id=\"T_231790b6_78b6_11ec_8139_04d9f5f5bbecrow0_col1\" class=\"data row0 col1\" >14.06%</td>\n",
       "            </tr>\n",
       "            <tr>\n",
       "                        <th id=\"T_231790b6_78b6_11ec_8139_04d9f5f5bbeclevel0_row1\" class=\"row_heading level0 row1\" >Male</th>\n",
       "                        <td id=\"T_231790b6_78b6_11ec_8139_04d9f5f5bbecrow1_col0\" class=\"data row1 col0\" >484</td>\n",
       "                        <td id=\"T_231790b6_78b6_11ec_8139_04d9f5f5bbecrow1_col1\" class=\"data row1 col1\" >84.03%</td>\n",
       "            </tr>\n",
       "            <tr>\n",
       "                        <th id=\"T_231790b6_78b6_11ec_8139_04d9f5f5bbeclevel0_row2\" class=\"row_heading level0 row2\" >Other / Non-Disclosed</th>\n",
       "                        <td id=\"T_231790b6_78b6_11ec_8139_04d9f5f5bbecrow2_col0\" class=\"data row2 col0\" >11</td>\n",
       "                        <td id=\"T_231790b6_78b6_11ec_8139_04d9f5f5bbecrow2_col1\" class=\"data row2 col1\" >1.91%</td>\n",
       "            </tr>\n",
       "    </tbody></table>"
      ],
      "text/plain": [
       "<pandas.io.formats.style.Styler at 0x217812773c8>"
      ]
     },
     "execution_count": 136,
     "metadata": {},
     "output_type": "execute_result"
    }
   ],
   "source": [
    "### Gender Demographics\n",
    "\n",
    "\n",
    "purchase_data_dropped = purchase_data.drop_duplicates(['SN'])\n",
    "# Removed duplicate SN entries from dataframe so that the same person isn't counted multiple times below\n",
    "gender = purchase_data_dropped[\"Gender\"].value_counts().sort_index()\n",
    "# Sorted in alphabetical order so that the entries and respective counts can be more easily determined\n",
    "\n",
    "# Finding the percentage and count of male players\n",
    "male_count = gender[1]\n",
    "male_percentage = male_count/player_count\n",
    "\n",
    "# Finding the percentage and count of female players\n",
    "female_count = gender[0]\n",
    "female_percentage = female_count/player_count\n",
    "\n",
    "# Finding the percentage and count of other/non-disclosed\n",
    "other_count = gender[2]\n",
    "other_percentage = other_count/player_count\n",
    "\n",
    "# Creating Gender Demographics summary dataframe\n",
    "gender_demo_d = [[\"Female\", female_count, female_percentage], \\\n",
    "                 [\"Male\", male_count, male_percentage], \\\n",
    "                 [\"Other / Non-Disclosed\", other_count, other_percentage]]\n",
    "gender_demo_df = pd.DataFrame(gender_demo_d, columns = ['Gender', 'Total Count', 'Percentage of Players'])\n",
    "gender_demo_df.set_index(\"Gender\").style.format({\"Percentage of Players\": \"{:,.2%}\"})"
   ]
  },
  {
   "cell_type": "code",
   "execution_count": 199,
   "metadata": {},
   "outputs": [
    {
     "data": {
      "text/html": [
       "<style  type=\"text/css\" >\n",
       "</style><table id=\"T_e3c07428_78bb_11ec_bf44_04d9f5f5bbec\" ><thead>    <tr>        <th class=\"blank level0\" ></th>        <th class=\"col_heading level0 col0\" >Purchase Count</th>        <th class=\"col_heading level0 col1\" >Average Purchase Price</th>        <th class=\"col_heading level0 col2\" >Total Purchase Value</th>        <th class=\"col_heading level0 col3\" >Avg. Total Purchase per Person</th>    </tr>    <tr>        <th class=\"index_name level0\" >Gender</th>        <th class=\"blank\" ></th>        <th class=\"blank\" ></th>        <th class=\"blank\" ></th>        <th class=\"blank\" ></th>    </tr></thead><tbody>\n",
       "                <tr>\n",
       "                        <th id=\"T_e3c07428_78bb_11ec_bf44_04d9f5f5bbeclevel0_row0\" class=\"row_heading level0 row0\" >Female</th>\n",
       "                        <td id=\"T_e3c07428_78bb_11ec_bf44_04d9f5f5bbecrow0_col0\" class=\"data row0 col0\" >113</td>\n",
       "                        <td id=\"T_e3c07428_78bb_11ec_bf44_04d9f5f5bbecrow0_col1\" class=\"data row0 col1\" >$3.20</td>\n",
       "                        <td id=\"T_e3c07428_78bb_11ec_bf44_04d9f5f5bbecrow0_col2\" class=\"data row0 col2\" >$361.94</td>\n",
       "                        <td id=\"T_e3c07428_78bb_11ec_bf44_04d9f5f5bbecrow0_col3\" class=\"data row0 col3\" >$4.47</td>\n",
       "            </tr>\n",
       "            <tr>\n",
       "                        <th id=\"T_e3c07428_78bb_11ec_bf44_04d9f5f5bbeclevel0_row1\" class=\"row_heading level0 row1\" >Male</th>\n",
       "                        <td id=\"T_e3c07428_78bb_11ec_bf44_04d9f5f5bbecrow1_col0\" class=\"data row1 col0\" >652</td>\n",
       "                        <td id=\"T_e3c07428_78bb_11ec_bf44_04d9f5f5bbecrow1_col1\" class=\"data row1 col1\" >$3.02</td>\n",
       "                        <td id=\"T_e3c07428_78bb_11ec_bf44_04d9f5f5bbecrow1_col2\" class=\"data row1 col2\" >$1,967.64</td>\n",
       "                        <td id=\"T_e3c07428_78bb_11ec_bf44_04d9f5f5bbecrow1_col3\" class=\"data row1 col3\" >$4.07</td>\n",
       "            </tr>\n",
       "            <tr>\n",
       "                        <th id=\"T_e3c07428_78bb_11ec_bf44_04d9f5f5bbeclevel0_row2\" class=\"row_heading level0 row2\" >Other / Non Disclosed</th>\n",
       "                        <td id=\"T_e3c07428_78bb_11ec_bf44_04d9f5f5bbecrow2_col0\" class=\"data row2 col0\" >15</td>\n",
       "                        <td id=\"T_e3c07428_78bb_11ec_bf44_04d9f5f5bbecrow2_col1\" class=\"data row2 col1\" >$3.35</td>\n",
       "                        <td id=\"T_e3c07428_78bb_11ec_bf44_04d9f5f5bbecrow2_col2\" class=\"data row2 col2\" >$50.19</td>\n",
       "                        <td id=\"T_e3c07428_78bb_11ec_bf44_04d9f5f5bbecrow2_col3\" class=\"data row2 col3\" >$4.56</td>\n",
       "            </tr>\n",
       "    </tbody></table>"
      ],
      "text/plain": [
       "<pandas.io.formats.style.Styler at 0x21780c0bac8>"
      ]
     },
     "execution_count": 199,
     "metadata": {},
     "output_type": "execute_result"
    }
   ],
   "source": [
    "### Purchasing Analysis (Gender)\n",
    "\n",
    "# Finding the Purchase Count by Gender\n",
    "purchase_count_gender = purchase_data[\"Gender\"].value_counts().sort_index()\n",
    "\n",
    "# Determining the Average Purchase Price by Gender\n",
    "avg_purch_gender = purchase_data.groupby(\"Gender\")['Price'].mean()\n",
    "\n",
    "# Finding the Total Purchase Value by Gender\n",
    "purchase_value_total = purchase_data.groupby(\"Gender\")['Price'].sum()\n",
    "\n",
    "# Determining the Average Purchase Total per Person by Gender\n",
    "value_person_gender = [None]*len(purchase_value_total)\n",
    "for i in range(0, len(purchase_value_total)):\n",
    "    value_person_gender[i] = purchase_value_total[i]/gender_demo_df.at[i, \"Total Count\"]\n",
    "    \n",
    "# Creating Purchasing Analysis (Gender) summary dataframe\n",
    "genders = ['Female', 'Male', 'Other / Non Disclosed']\n",
    "columns = [\"Gender\", 'Purchase Count', 'Average Purchase Price', 'Total Purchase Value', \"Avg. Total Purchase per Person\"]\n",
    "gender_purchasing_df = pd.DataFrame(columns = columns)\n",
    "for i in range(0, len(value_person_gender)):\n",
    "    gender_purchasing_df = gender_purchasing_df.append({\"Gender\": genders[i], \n",
    "                                 \"Purchase Count\": purchase_count_gender[i], \\\n",
    "                                 \"Average Purchase Price\": avg_purch_gender[i], \\\n",
    "                                 \"Total Purchase Value\": purchase_value_total[i], \\\n",
    "                                 \"Avg. Total Purchase per Person\": value_person_gender[i]}, ignore_index=True)\n",
    "gender_purchasing_df.set_index(\"Gender\").style.format({'Average Purchase Price': '${:,.2f}', \\\n",
    "                                                      'Total Purchase Value': '${:,.2f}', \\\n",
    "                                                      'Avg. Total Purchase per Person': '${:,.2f}'})"
   ]
  },
  {
   "cell_type": "code",
   "execution_count": 198,
   "metadata": {},
   "outputs": [
    {
     "data": {
      "text/html": [
       "<div>\n",
       "<style scoped>\n",
       "    .dataframe tbody tr th:only-of-type {\n",
       "        vertical-align: middle;\n",
       "    }\n",
       "\n",
       "    .dataframe tbody tr th {\n",
       "        vertical-align: top;\n",
       "    }\n",
       "\n",
       "    .dataframe thead th {\n",
       "        text-align: right;\n",
       "    }\n",
       "</style>\n",
       "<table border=\"1\" class=\"dataframe\">\n",
       "  <thead>\n",
       "    <tr style=\"text-align: right;\">\n",
       "      <th></th>\n",
       "      <th>Gender</th>\n",
       "      <th>Purchase Count</th>\n",
       "      <th>Average Purchase Price</th>\n",
       "      <th>Total Purchase Value</th>\n",
       "      <th>Avg. Total Purchase per Person</th>\n",
       "    </tr>\n",
       "  </thead>\n",
       "  <tbody>\n",
       "    <tr>\n",
       "      <th>0</th>\n",
       "      <td>Female</td>\n",
       "      <td>113</td>\n",
       "      <td>3.203009</td>\n",
       "      <td>361.94</td>\n",
       "      <td>4.468395</td>\n",
       "    </tr>\n",
       "    <tr>\n",
       "      <th>1</th>\n",
       "      <td>Male</td>\n",
       "      <td>652</td>\n",
       "      <td>3.017853</td>\n",
       "      <td>1967.64</td>\n",
       "      <td>4.065372</td>\n",
       "    </tr>\n",
       "    <tr>\n",
       "      <th>2</th>\n",
       "      <td>Other / Non Disclosed</td>\n",
       "      <td>15</td>\n",
       "      <td>3.346000</td>\n",
       "      <td>50.19</td>\n",
       "      <td>4.562727</td>\n",
       "    </tr>\n",
       "  </tbody>\n",
       "</table>\n",
       "</div>"
      ],
      "text/plain": [
       "                  Gender Purchase Count  Average Purchase Price  \\\n",
       "0                 Female            113                3.203009   \n",
       "1                   Male            652                3.017853   \n",
       "2  Other / Non Disclosed             15                3.346000   \n",
       "\n",
       "   Total Purchase Value  Avg. Total Purchase per Person  \n",
       "0                361.94                        4.468395  \n",
       "1               1967.64                        4.065372  \n",
       "2                 50.19                        4.562727  "
      ]
     },
     "execution_count": 198,
     "metadata": {},
     "output_type": "execute_result"
    }
   ],
   "source": [
    "gender_purchasing_df"
   ]
  },
  {
   "cell_type": "code",
   "execution_count": 186,
   "metadata": {},
   "outputs": [
    {
     "data": {
      "text/plain": [
       "Gender\n",
       "Female                   3.203009\n",
       "Male                     3.017853\n",
       "Other / Non-Disclosed    3.346000\n",
       "Name: Price, dtype: float64"
      ]
     },
     "execution_count": 186,
     "metadata": {},
     "output_type": "execute_result"
    }
   ],
   "source": [
    "purchase_value_gender"
   ]
  },
  {
   "cell_type": "code",
   "execution_count": null,
   "metadata": {},
   "outputs": [],
   "source": []
  }
 ],
 "metadata": {
  "kernelspec": {
   "display_name": "Python [conda env:PythonData] *",
   "language": "python",
   "name": "conda-env-PythonData-py"
  },
  "language_info": {
   "codemirror_mode": {
    "name": "ipython",
    "version": 3
   },
   "file_extension": ".py",
   "mimetype": "text/x-python",
   "name": "python",
   "nbconvert_exporter": "python",
   "pygments_lexer": "ipython3",
   "version": "3.6.10"
  }
 },
 "nbformat": 4,
 "nbformat_minor": 4
}
